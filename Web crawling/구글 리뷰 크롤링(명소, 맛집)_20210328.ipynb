{
 "cells": [
  {
   "cell_type": "code",
   "execution_count": 1,
   "metadata": {},
   "outputs": [
    {
     "name": "stdout",
     "output_type": "stream",
     "text": [
      "Enter keyword you'd like to crawl\n",
      "대구 명소\n"
     ]
    }
   ],
   "source": [
    "print(\"Enter keyword you'd like to crawl\")\n",
    "keyword = input()"
   ]
  },
  {
   "cell_type": "code",
   "execution_count": 2,
   "metadata": {},
   "outputs": [],
   "source": [
    "import requests\n",
    "from urllib.request import Request\n",
    "import urllib.parse as parse\n",
    "import urllib.request as request\n",
    "from urllib.request import urlopen\n",
    "from bs4 import BeautifulSoup\n",
    "from selenium import webdriver\n",
    "from selenium.webdriver import ActionChains as AC\n",
    "import json\n",
    "import pandas as pd\n",
    "import time\n",
    "from datetime import datetime, timedelta\n",
    "from dateutil.relativedelta import relativedelta\n",
    "import re"
   ]
  },
  {
   "cell_type": "code",
   "execution_count": 55,
   "metadata": {},
   "outputs": [],
   "source": [
    "def getGoogleReviews(keyword, driver):\n",
    "    googleReviews = pd.DataFrame(columns=['name', 'date', 'reviews', 'stars', 'category', 'address', 'lat', 'lng', 'foreigner'])\n",
    "    url = ('https://www.google.co.kr/maps/search/'+keyword+\n",
    "               '/@35.8698753,128.5880298,15z/data=!3m1!4b1?hl=ko')\n",
    "    driver.get(url)\n",
    "    while True:\n",
    "        googleReviews = pd.concat([googleReviews, getReviewsOnThisPage(driver)])\n",
    "        time.sleep(3)\n",
    "        try: \n",
    "            nextPage = driver.find_element_by_xpath(\"//button[@aria-label='다음 페이지']\")\n",
    "            nextPage.click()\n",
    "            time.sleep(4)\n",
    "        except:\n",
    "            break\n",
    "    return googleReviews\n",
    "\n",
    "def getReviewsOnThisPage(driver):\n",
    "    pageReviews = pd.DataFrame(columns=['name', 'date', 'reviews', 'stars', 'category', 'address', 'lat', 'lng', 'foreigner'])\n",
    "    \n",
    "    scrollPane = driver.find_element_by_xpath(\"//div[@class='section-layout section-scrollbox scrollable-y scrollable-show section-layout-flex-vertical']\")\n",
    "    for i in range(0, 5):\n",
    "        driver.execute_script('arguments[0].scrollTop = arguments[0].scrollHeight', scrollPane)\n",
    "        time.sleep(0.5)\n",
    "        \n",
    "    buttons = driver.find_elements_by_xpath(\"//div[@jsan='7.sJKr7qpXOXd__content-container,7.sJKr7qpXOXd__result-container-clickable,7.sJKr7qpXOXd__content-container-is-link,0.aria-label']\")\n",
    "    print(len(buttons))\n",
    "    buttonList = list()\n",
    "    for button in buttons:\n",
    "        buttonList.append(button.get_attribute('innerHTML'))\n",
    "        \n",
    "    for i in range(0, len(buttonList)):\n",
    "        soup = BeautifulSoup(buttonList[i],'html.parser')\n",
    "        name = soup.find('div', class_='tYZdQJV9xeh__title gm2-subtitle-alt-1').text\n",
    "        category = soup.find('div', class_='tYZdQJV9xeh__info-line').text\n",
    "        button = driver.find_elements_by_xpath(\"//a[@jsan='7.place-result-container-place-link,0.aria-label,8.href,0.jsaction']\")[i]\n",
    "        button.click()\n",
    "        time.sleep(2.5)\n",
    "        review = visitReview(i, driver, name, category)\n",
    "        pageReviews = pd.concat([pageReviews, review])\n",
    "        \n",
    "\n",
    "    return pageReviews\n",
    "\n",
    "def visitReview(index, driver, title, category):\n",
    "    #Getting inside the Review page\n",
    "    reviewCnt = 0 \n",
    "    #address\n",
    "    address = \"\"\n",
    "    #latitude and longtitude info\n",
    "    #data=!4m8!1m2!2m1!1z64yA6rWs66qF7IaM!3m4!1s0x356609d9ab274835:0x879f109ab47152ee!8m2!3d35.8314654!4d128.6875637?hl=ko\n",
    "    try: \n",
    "#         button.click()\n",
    "#         time.sleep(2.5)\n",
    "        address = driver.find_element_by_xpath(\"//button[@data-item-id='address']\").get_attribute('aria-label')[4:]\n",
    "        urlSplit = driver.current_url.split('!')\n",
    "#         print(urlSplit[-2]+ ','+urlSplit[-1])\n",
    "        latitude = urlSplit[-2][2:]\n",
    "        longtitude = urlSplit[-1].split('?')[0][2:]\n",
    "        button = driver.find_element_by_xpath(\"//button[@jsaction='pane.rating.moreReviews']\")\n",
    "        reviewCnt = int(button.get_attribute('aria-label')[3:-1].replace(\",\", \"\"))\n",
    "        print(title,': ', reviewCnt)\n",
    "        button.click()\n",
    "        time.sleep(1)\n",
    "    except:\n",
    "        print('except: visitReview.getting into the page')\n",
    "        url_before = driver.current_url\n",
    "        while True:\n",
    "            backButton = driver.find_element_by_xpath(\"//button[@jsaction='pane.place.backToList']\")\n",
    "            backButton.click()\n",
    "            time.sleep(2)\n",
    "            if url_before != driver.current_url:\n",
    "                break\n",
    "        return None\n",
    "    \n",
    "    #Scroll down for certain times\n",
    "    scrollPane = driver.find_element_by_xpath(\"//div[@class='section-layout section-scrollbox scrollable-y scrollable-show']\")\n",
    "#     scrollTimes = (reviewCnt>1500) and 150 or reviewCnt // 10\n",
    "#     scrollTimes = (reviewCnt>10) and 1 or reviewCnt // 10\n",
    "    for i in range(0, reviewCnt//10):\n",
    "        driver.execute_script('arguments[0].scrollTop = arguments[0].scrollHeight', scrollPane)\n",
    "        time.sleep(0.5)\n",
    "    \n",
    "    stars = driver.find_elements_by_xpath(\"//span[@class='section-review-stars']\")\n",
    "    reviews = driver.find_elements_by_xpath(\"//span[@class='section-review-text']\")\n",
    "    dates = driver.find_elements_by_xpath(\"//span[@class='section-review-publish-date']\")\n",
    "    col_stars = list()\n",
    "    col_reviews = list()\n",
    "    col_dates = list()\n",
    "    col_foreigner = list()\n",
    "    \n",
    "    hangul = re.compile('[^ㄱ-ㅎ ㅏ-ㅣ 가-힣]+')\n",
    "    for i in range(0, len(stars)):\n",
    "        review = reviews[i].text\n",
    "        star = stars[i].get_attribute('aria-label')[4]\n",
    "        date = getExactDateTime(dates[i].text)\n",
    "        foreigner = 1 if (hangul.sub('', review).replace(\" \", \"\")=='' or \n",
    "                         '(Google 번역 제공)' in review) else 0\n",
    "        col_stars.append(star)\n",
    "        col_reviews.append(review)\n",
    "        col_dates.append(date)\n",
    "        col_foreigner.append(foreigner)\n",
    "    itemReviews = pd.DataFrame()\n",
    "    itemReviews['reviews'] = col_reviews\n",
    "    itemReviews['stars'] = col_stars\n",
    "    itemReviews['name'] = title\n",
    "    itemReviews['category'] = category\n",
    "    itemReviews['address'] = address\n",
    "    itemReviews['lat'] = latitude\n",
    "    itemReviews['lng'] = longtitude\n",
    "    itemReviews['date'] = col_dates\n",
    "    itemReviews['foreigner'] = col_foreigner\n",
    "#     print(address)\n",
    "\n",
    "    itemReviews = itemReviews[['name', 'date', 'reviews', 'stars', 'category', 'address', 'lat', 'lng', 'foreigner']]\n",
    "    #Getting out to the original list page\n",
    "    try: \n",
    "        url_before = driver.current_url\n",
    "        while True:\n",
    "            #windows\n",
    "#             backButton = driver.find_element_by_xpath(\"//button[@aria-label='뒤로']\")\n",
    "            #mac\n",
    "            backButton = driver.find_element_by_xpath(\"//button[@aria-label='Back']\")\n",
    "\n",
    "#             print('success')\n",
    "            backButton.click()\n",
    "            time.sleep(1.5)\n",
    "            if url_before != driver.current_url:\n",
    "                break\n",
    "        backButton = driver.find_element_by_xpath(\"//button[@jsaction='pane.place.backToList']\")\n",
    "        backButton.click()\n",
    "        time.sleep(1)\n",
    "#         url_before = driver.current_url\n",
    "#         while True:\n",
    "#             backButton = driver.find_element_by_xpath(\"//button[@jsaction='pane.place.backToList']\")\n",
    "#             backButton.click()\n",
    "# #             driver.execute_script('window.history.go(-1)')\n",
    "#             time.sleep(1)\n",
    "#             if url_before != driver.current_url:\n",
    "#                 break\n",
    "    except:\n",
    "        print('except: visitReview.getting out of the page')\n",
    "        return None\n",
    "    return itemReviews\n",
    "\n",
    "def getExactDateTime(relativeDate):\n",
    "    now = datetime.now()\n",
    "    digit = int(re.findall('\\d+', relativeDate)[0])\n",
    "    count = relativeDate[-3]\n",
    "    if count=='초':\n",
    "        now = now + timedelta(seconds=-1*digit)\n",
    "    elif count=='분':\n",
    "        now = now + timedelta(minutes=-1*digit)\n",
    "    elif count=='간':\n",
    "        now = now + timedelta(hours=-1*digit)\n",
    "    elif count=='일':\n",
    "        now = now + timedelta(days=-1*digit)\n",
    "    elif count=='주':\n",
    "        now = now + timedelta(weeks=-1*digit)\n",
    "    elif count=='달':\n",
    "        now = now + relativedelta(months=-1*digit)\n",
    "    elif count=='년':\n",
    "        now = now + relativedelta(years=-100)\n",
    "    return now.strftime(\"%Y/%m/%d\")\n",
    "#     time2 + timedelta(days=1, hours=-2)"
   ]
  },
  {
   "cell_type": "code",
   "execution_count": 56,
   "metadata": {},
   "outputs": [],
   "source": [
    "# def getGoogleReviewsOnCertainPage(pageNum, keyword, driver):\n",
    "#     googleReviews = pd.DataFrame(columns=['name', 'date', 'reviews', 'stars', 'category', 'address', 'lat', 'lng'])\n",
    "#     url = ('https://www.google.co.kr/maps/search/'+keyword+\n",
    "#                '/@35.8698753,128.5880298,15z/data=!3m1!4b1?hl=ko')\n",
    "#     driver.get(url)\n",
    "#     print('reading page', (pageNum+1), '...')\n",
    "#     try:\n",
    "#         for i in range(0, pageNum):\n",
    "#             beforeButton = driver.find_element_by_css_selector(\"a[data-result-index]\").get_attribute('aria-label')\n",
    "#             while True:\n",
    "#                 nextPage = driver.find_element_by_xpath(\"//button[@aria-label='다음 페이지']\")\n",
    "# #                 print('다음 페이지...')\n",
    "#                 nextPage.click()\n",
    "#                 time.sleep(2)\n",
    "#                 afterButton = driver.find_element_by_css_selector(\"a[data-result-index]\").get_attribute('aria-label')\n",
    "#                 if beforeButton != afterButton:\n",
    "#                     break\n",
    "#     except:\n",
    "#         return googleReviews\n",
    "\n",
    "#     return getReviewsOnThisPage(driver)"
   ]
  },
  {
   "cell_type": "code",
   "execution_count": 57,
   "metadata": {},
   "outputs": [
    {
     "name": "stdout",
     "output_type": "stream",
     "text": [
      "6\n",
      " 김광석 다시 그리기 길  :  6455\n",
      " 아양기찻길  :  923\n"
     ]
    },
    {
     "ename": "KeyboardInterrupt",
     "evalue": "",
     "output_type": "error",
     "traceback": [
      "\u001b[0;31m---------------------------------------------------------------------------\u001b[0m",
      "\u001b[0;31mKeyboardInterrupt\u001b[0m                         Traceback (most recent call last)",
      "\u001b[0;32m<ipython-input-57-699bc49b3298>\u001b[0m in \u001b[0;36m<module>\u001b[0;34m\u001b[0m\n\u001b[1;32m      2\u001b[0m \u001b[0mdriver\u001b[0m \u001b[0;34m=\u001b[0m \u001b[0mwebdriver\u001b[0m\u001b[0;34m.\u001b[0m\u001b[0mChrome\u001b[0m\u001b[0;34m(\u001b[0m\u001b[0;34m)\u001b[0m\u001b[0;34m\u001b[0m\u001b[0;34m\u001b[0m\u001b[0m\n\u001b[1;32m      3\u001b[0m \u001b[0mdriver\u001b[0m\u001b[0;34m.\u001b[0m\u001b[0mimplicitly_wait\u001b[0m\u001b[0;34m(\u001b[0m\u001b[0;36m10\u001b[0m\u001b[0;34m)\u001b[0m\u001b[0;34m\u001b[0m\u001b[0;34m\u001b[0m\u001b[0m\n\u001b[0;32m----> 4\u001b[0;31m \u001b[0mdf\u001b[0m \u001b[0;34m=\u001b[0m \u001b[0mgetGoogleReviews\u001b[0m\u001b[0;34m(\u001b[0m\u001b[0mkeyword\u001b[0m\u001b[0;34m,\u001b[0m \u001b[0mdriver\u001b[0m\u001b[0;34m)\u001b[0m\u001b[0;34m\u001b[0m\u001b[0;34m\u001b[0m\u001b[0m\n\u001b[0m\u001b[1;32m      5\u001b[0m \u001b[0mdriver\u001b[0m\u001b[0;34m.\u001b[0m\u001b[0mclose\u001b[0m\u001b[0;34m(\u001b[0m\u001b[0;34m)\u001b[0m\u001b[0;34m\u001b[0m\u001b[0;34m\u001b[0m\u001b[0m\n",
      "\u001b[0;32m<ipython-input-55-6703e92a74f3>\u001b[0m in \u001b[0;36mgetGoogleReviews\u001b[0;34m(keyword, driver)\u001b[0m\n\u001b[1;32m      5\u001b[0m     \u001b[0mdriver\u001b[0m\u001b[0;34m.\u001b[0m\u001b[0mget\u001b[0m\u001b[0;34m(\u001b[0m\u001b[0murl\u001b[0m\u001b[0;34m)\u001b[0m\u001b[0;34m\u001b[0m\u001b[0;34m\u001b[0m\u001b[0m\n\u001b[1;32m      6\u001b[0m     \u001b[0;32mwhile\u001b[0m \u001b[0;32mTrue\u001b[0m\u001b[0;34m:\u001b[0m\u001b[0;34m\u001b[0m\u001b[0;34m\u001b[0m\u001b[0m\n\u001b[0;32m----> 7\u001b[0;31m         \u001b[0mgoogleReviews\u001b[0m \u001b[0;34m=\u001b[0m \u001b[0mpd\u001b[0m\u001b[0;34m.\u001b[0m\u001b[0mconcat\u001b[0m\u001b[0;34m(\u001b[0m\u001b[0;34m[\u001b[0m\u001b[0mgoogleReviews\u001b[0m\u001b[0;34m,\u001b[0m \u001b[0mgetReviewsOnThisPage\u001b[0m\u001b[0;34m(\u001b[0m\u001b[0mdriver\u001b[0m\u001b[0;34m)\u001b[0m\u001b[0;34m]\u001b[0m\u001b[0;34m)\u001b[0m\u001b[0;34m\u001b[0m\u001b[0;34m\u001b[0m\u001b[0m\n\u001b[0m\u001b[1;32m      8\u001b[0m         \u001b[0mtime\u001b[0m\u001b[0;34m.\u001b[0m\u001b[0msleep\u001b[0m\u001b[0;34m(\u001b[0m\u001b[0;36m3\u001b[0m\u001b[0;34m)\u001b[0m\u001b[0;34m\u001b[0m\u001b[0;34m\u001b[0m\u001b[0m\n\u001b[1;32m      9\u001b[0m         \u001b[0;32mtry\u001b[0m\u001b[0;34m:\u001b[0m\u001b[0;34m\u001b[0m\u001b[0;34m\u001b[0m\u001b[0m\n",
      "\u001b[0;32m<ipython-input-55-6703e92a74f3>\u001b[0m in \u001b[0;36mgetReviewsOnThisPage\u001b[0;34m(driver)\u001b[0m\n\u001b[1;32m     36\u001b[0m         \u001b[0mbutton\u001b[0m\u001b[0;34m.\u001b[0m\u001b[0mclick\u001b[0m\u001b[0;34m(\u001b[0m\u001b[0;34m)\u001b[0m\u001b[0;34m\u001b[0m\u001b[0;34m\u001b[0m\u001b[0m\n\u001b[1;32m     37\u001b[0m         \u001b[0mtime\u001b[0m\u001b[0;34m.\u001b[0m\u001b[0msleep\u001b[0m\u001b[0;34m(\u001b[0m\u001b[0;36m2.5\u001b[0m\u001b[0;34m)\u001b[0m\u001b[0;34m\u001b[0m\u001b[0;34m\u001b[0m\u001b[0m\n\u001b[0;32m---> 38\u001b[0;31m         \u001b[0mreview\u001b[0m \u001b[0;34m=\u001b[0m \u001b[0mvisitReview\u001b[0m\u001b[0;34m(\u001b[0m\u001b[0mi\u001b[0m\u001b[0;34m,\u001b[0m \u001b[0mdriver\u001b[0m\u001b[0;34m,\u001b[0m \u001b[0mname\u001b[0m\u001b[0;34m,\u001b[0m \u001b[0mcategory\u001b[0m\u001b[0;34m)\u001b[0m\u001b[0;34m\u001b[0m\u001b[0;34m\u001b[0m\u001b[0m\n\u001b[0m\u001b[1;32m     39\u001b[0m         \u001b[0mpageReviews\u001b[0m \u001b[0;34m=\u001b[0m \u001b[0mpd\u001b[0m\u001b[0;34m.\u001b[0m\u001b[0mconcat\u001b[0m\u001b[0;34m(\u001b[0m\u001b[0;34m[\u001b[0m\u001b[0mpageReviews\u001b[0m\u001b[0;34m,\u001b[0m \u001b[0mreview\u001b[0m\u001b[0;34m]\u001b[0m\u001b[0;34m)\u001b[0m\u001b[0;34m\u001b[0m\u001b[0;34m\u001b[0m\u001b[0m\n\u001b[1;32m     40\u001b[0m \u001b[0;34m\u001b[0m\u001b[0m\n",
      "\u001b[0;32m<ipython-input-55-6703e92a74f3>\u001b[0m in \u001b[0;36mvisitReview\u001b[0;34m(index, driver, title, category)\u001b[0m\n\u001b[1;32m     79\u001b[0m     \u001b[0;32mfor\u001b[0m \u001b[0mi\u001b[0m \u001b[0;32min\u001b[0m \u001b[0mrange\u001b[0m\u001b[0;34m(\u001b[0m\u001b[0;36m0\u001b[0m\u001b[0;34m,\u001b[0m \u001b[0mreviewCnt\u001b[0m\u001b[0;34m//\u001b[0m\u001b[0;36m10\u001b[0m\u001b[0;34m)\u001b[0m\u001b[0;34m:\u001b[0m\u001b[0;34m\u001b[0m\u001b[0;34m\u001b[0m\u001b[0m\n\u001b[1;32m     80\u001b[0m         \u001b[0mdriver\u001b[0m\u001b[0;34m.\u001b[0m\u001b[0mexecute_script\u001b[0m\u001b[0;34m(\u001b[0m\u001b[0;34m'arguments[0].scrollTop = arguments[0].scrollHeight'\u001b[0m\u001b[0;34m,\u001b[0m \u001b[0mscrollPane\u001b[0m\u001b[0;34m)\u001b[0m\u001b[0;34m\u001b[0m\u001b[0;34m\u001b[0m\u001b[0m\n\u001b[0;32m---> 81\u001b[0;31m         \u001b[0mtime\u001b[0m\u001b[0;34m.\u001b[0m\u001b[0msleep\u001b[0m\u001b[0;34m(\u001b[0m\u001b[0;36m0.5\u001b[0m\u001b[0;34m)\u001b[0m\u001b[0;34m\u001b[0m\u001b[0;34m\u001b[0m\u001b[0m\n\u001b[0m\u001b[1;32m     82\u001b[0m \u001b[0;34m\u001b[0m\u001b[0m\n\u001b[1;32m     83\u001b[0m     \u001b[0mstars\u001b[0m \u001b[0;34m=\u001b[0m \u001b[0mdriver\u001b[0m\u001b[0;34m.\u001b[0m\u001b[0mfind_elements_by_xpath\u001b[0m\u001b[0;34m(\u001b[0m\u001b[0;34m\"//span[@class='section-review-stars']\"\u001b[0m\u001b[0;34m)\u001b[0m\u001b[0;34m\u001b[0m\u001b[0;34m\u001b[0m\u001b[0m\n",
      "\u001b[0;31mKeyboardInterrupt\u001b[0m: "
     ]
    }
   ],
   "source": [
    "# Ways to read all the data in one time\n",
    "driver = webdriver.Chrome()\n",
    "driver.implicitly_wait(10)\n",
    "df = getGoogleReviews(keyword, driver)\n",
    "driver.close()"
   ]
  },
  {
   "cell_type": "code",
   "execution_count": null,
   "metadata": {},
   "outputs": [],
   "source": [
    "print('before drop: ', df.shape)\n",
    "df_drop = df.drop_duplicates()\n",
    "print('after drop: ', df_drop.shape)"
   ]
  },
  {
   "cell_type": "code",
   "execution_count": null,
   "metadata": {},
   "outputs": [],
   "source": [
    "df_drop = df_drop.astype(str).apply(lambda x: x.str.encode('cp949', 'ignore').str.decode('cp949'))\n",
    "df_drop.to_csv(keyword+'.csv', index=False, encoding='cp949')\n",
    "# pd.read_csv(keyword+str(1)+'.csv', sep=',', encoding='cp949')"
   ]
  },
  {
   "cell_type": "code",
   "execution_count": null,
   "metadata": {},
   "outputs": [
    {
     "name": "stdout",
     "output_type": "stream",
     "text": [
      "reading page 1 ...\n",
      "해랑정더덕밥 :  109\n"
     ]
    }
   ],
   "source": [
    "# driver = webdriver.Chrome()\n",
    "# driver.implicitly_wait(2)\n",
    "# index = 1\n",
    "# while True:\n",
    "#     df = getGoogleReviewsOnCertainPage(index-1, keyword, driver)\n",
    "#     if df.empty:\n",
    "#         break\n",
    "#     df = df.astype(str).apply(lambda x: x.str.encode('cp949', 'ignore').str.decode('cp949'))\n",
    "#     df.to_csv(keyword+str(index)+'.csv', index=False, encoding='cp949')\n",
    "#     index = index+1"
   ]
  },
  {
   "cell_type": "code",
   "execution_count": 13,
   "metadata": {},
   "outputs": [],
   "source": [
    "# df = pd.DataFrame(columns=['name', 'date', 'reviews', 'stars', 'category', 'address', 'lat', 'lng'])\n",
    "# for i in range(1, index):\n",
    "#     df = pd.concat([df, pd.read_csv(keyword+str(i)+'.csv', sep=',', encoding='cp949')])\n",
    "# df.to_csv(keyword + '.csv', index=False, encoding='cp949')\n",
    "# # pd.read_csv(keyword+str(1)+'.csv', sep=',', encoding='cp949')"
   ]
  },
  {
   "cell_type": "code",
   "execution_count": 14,
   "metadata": {},
   "outputs": [
    {
     "data": {
      "text/plain": [
       "24"
      ]
     },
     "execution_count": 14,
     "metadata": {},
     "output_type": "execute_result"
    }
   ],
   "source": [
    "# df = pd.read_csv(keyword+'.csv', sep=',', encoding='cp949')\n",
    "# len(df.Name.unique())"
   ]
  },
  {
   "cell_type": "code",
   "execution_count": null,
   "metadata": {},
   "outputs": [],
   "source": []
  }
 ],
 "metadata": {
  "kernelspec": {
   "display_name": "Python 3",
   "language": "python",
   "name": "python3"
  },
  "language_info": {
   "codemirror_mode": {
    "name": "ipython",
    "version": 3
   },
   "file_extension": ".py",
   "mimetype": "text/x-python",
   "name": "python",
   "nbconvert_exporter": "python",
   "pygments_lexer": "ipython3",
   "version": "3.8.3"
  }
 },
 "nbformat": 4,
 "nbformat_minor": 4
}
